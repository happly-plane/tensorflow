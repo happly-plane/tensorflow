{
 "cells": [
  {
   "cell_type": "code",
   "execution_count": 31,
   "id": "8ba35ff3-902c-480c-9ec8-15d431397987",
   "metadata": {
    "ExecutionIndicator": {
     "show": true
    },
    "execution": {
     "iopub.execute_input": "2023-11-04T06:50:33.712706Z",
     "iopub.status.busy": "2023-11-04T06:50:33.712345Z",
     "iopub.status.idle": "2023-11-04T06:50:33.715246Z",
     "shell.execute_reply": "2023-11-04T06:50:33.714795Z",
     "shell.execute_reply.started": "2023-11-04T06:50:33.712685Z"
    },
    "tags": []
   },
   "outputs": [],
   "source": [
    "import numpy as np\n",
    "import time\n",
    "import os"
   ]
  },
  {
   "cell_type": "code",
   "execution_count": 2,
   "id": "07fde373-ae89-4ff3-b79d-3acc3b5ae69c",
   "metadata": {
    "ExecutionIndicator": {
     "show": true
    },
    "execution": {
     "iopub.execute_input": "2023-11-04T06:49:37.690804Z",
     "iopub.status.busy": "2023-11-04T06:49:37.690429Z",
     "iopub.status.idle": "2023-11-04T06:49:37.747962Z",
     "shell.execute_reply": "2023-11-04T06:49:37.747463Z",
     "shell.execute_reply.started": "2023-11-04T06:49:37.690784Z"
    },
    "tags": []
   },
   "outputs": [],
   "source": [
    "text = open(\"text.utf8.txt\",\"r\").read()"
   ]
  },
  {
   "cell_type": "code",
   "execution_count": 3,
   "id": "45a95724-fe2c-46b6-b09e-86175c6d4c99",
   "metadata": {
    "ExecutionIndicator": {
     "show": true
    },
    "execution": {
     "iopub.execute_input": "2023-11-04T06:49:38.707247Z",
     "iopub.status.busy": "2023-11-04T06:49:38.706911Z",
     "iopub.status.idle": "2023-11-04T06:49:38.741015Z",
     "shell.execute_reply": "2023-11-04T06:49:38.740518Z",
     "shell.execute_reply.started": "2023-11-04T06:49:38.707227Z"
    },
    "scrolled": true,
    "tags": []
   },
   "outputs": [],
   "source": [
    "text = text.replace(\"=\",\"\").replace(\"\\n\",\"\").replace(\"更多精校小说尽在免费小说网下载：http://www.freexiaoshuo.com/\",\"\")"
   ]
  },
  {
   "cell_type": "code",
   "execution_count": 4,
   "id": "890111d8-8ab1-4e91-813b-852ee1f3a7c7",
   "metadata": {
    "execution": {
     "iopub.execute_input": "2023-11-04T06:49:39.364870Z",
     "iopub.status.busy": "2023-11-04T06:49:39.364562Z",
     "iopub.status.idle": "2023-11-04T06:49:39.369643Z",
     "shell.execute_reply": "2023-11-04T06:49:39.369215Z",
     "shell.execute_reply.started": "2023-11-04T06:49:39.364852Z"
    },
    "tags": []
   },
   "outputs": [
    {
     "data": {
      "text/plain": [
       "'书名：《生死丹尊》作者：偏旁部首字数：690万简介：\\u3000\\u3000唐明阳，一个逐出家族的纨绔废物，却意外觉醒前世生死丹尊的记忆，从此他的人生开始张狂肆意。\\u3000\\u3000世家天才，辱他欺他？踩踩踩！\\u3000\\u3000妖女圣女，芳华绝代？收收收！\\u3000\\u3000老祖老怪，看他不顺？杀杀杀！\\u3000\\u3000在这个强者为尊，弱者为蝼蚁，看你不顺眼，即可来杀你的残酷世界，且看唐明阳如何逆势而起，纵横九天！第1章 轮回转世\\u3000\\u3000“没想到轮回丹，真的让我投胎转世了。”\\u3000\\u3000唐明阳在课堂上睡了一觉，突然觉醒前世记忆，脑袋有些发涨。\\u3000\\u3000他前世乃是乾坤大世界的生死丹尊，玄元六'"
      ]
     },
     "execution_count": 4,
     "metadata": {},
     "output_type": "execute_result"
    }
   ],
   "source": [
    "text[:250]"
   ]
  },
  {
   "cell_type": "code",
   "execution_count": 6,
   "id": "d8c97e5b-c113-4342-af58-6fec57533d7b",
   "metadata": {
    "execution": {
     "iopub.execute_input": "2023-11-04T06:49:42.755481Z",
     "iopub.status.busy": "2023-11-04T06:49:42.755142Z",
     "iopub.status.idle": "2023-11-04T06:49:42.758366Z",
     "shell.execute_reply": "2023-11-04T06:49:42.757940Z",
     "shell.execute_reply.started": "2023-11-04T06:49:42.755462Z"
    },
    "tags": []
   },
   "outputs": [
    {
     "name": "stdout",
     "output_type": "stream",
     "text": [
      "Length of text: 7488827 characters\n"
     ]
    }
   ],
   "source": [
    "print ('Length of text: {} characters'.format(len(text)))"
   ]
  },
  {
   "cell_type": "code",
   "execution_count": 7,
   "id": "cb419f43-b55f-422d-b95b-44d7b074b381",
   "metadata": {
    "execution": {
     "iopub.execute_input": "2023-11-04T06:49:43.078005Z",
     "iopub.status.busy": "2023-11-04T06:49:43.077786Z",
     "iopub.status.idle": "2023-11-04T06:49:43.359939Z",
     "shell.execute_reply": "2023-11-04T06:49:43.359428Z",
     "shell.execute_reply.started": "2023-11-04T06:49:43.077990Z"
    },
    "tags": []
   },
   "outputs": [
    {
     "name": "stdout",
     "output_type": "stream",
     "text": [
      "3928 unique characters\n"
     ]
    }
   ],
   "source": [
    "vocab = sorted(set(text))\n",
    "print ('{} unique characters'.format(len(vocab)))"
   ]
  },
  {
   "cell_type": "code",
   "execution_count": 8,
   "id": "6a3be712-b2ea-475b-951e-62e8802e70e1",
   "metadata": {
    "execution": {
     "iopub.execute_input": "2023-11-04T06:49:43.383203Z",
     "iopub.status.busy": "2023-11-04T06:49:43.382981Z",
     "iopub.status.idle": "2023-11-04T06:49:44.217941Z",
     "shell.execute_reply": "2023-11-04T06:49:44.217371Z",
     "shell.execute_reply.started": "2023-11-04T06:49:43.383187Z"
    },
    "tags": []
   },
   "outputs": [],
   "source": [
    "# 创建从非重复字符到索引的映射\n",
    "char2idx = {u:i for i, u in enumerate(vocab)}\n",
    "idx2char = np.array(vocab)\n",
    "\n",
    "text_as_int = np.array([char2idx[c] for c in text])"
   ]
  },
  {
   "cell_type": "code",
   "execution_count": 9,
   "id": "71a6a250-0597-4206-b1c2-60e334ef39e1",
   "metadata": {
    "execution": {
     "iopub.execute_input": "2023-11-04T06:49:44.219082Z",
     "iopub.status.busy": "2023-11-04T06:49:44.218845Z",
     "iopub.status.idle": "2023-11-04T06:49:44.222177Z",
     "shell.execute_reply": "2023-11-04T06:49:44.221766Z",
     "shell.execute_reply.started": "2023-11-04T06:49:44.219066Z"
    },
    "tags": []
   },
   "outputs": [
    {
     "name": "stdout",
     "output_type": "stream",
     "text": [
      "{\n",
      "  ' ' :   0,\n",
      "  '-' :   1,\n",
      "  '.' :   2,\n",
      "  '0' :   3,\n",
      "  '1' :   4,\n",
      "  '2' :   5,\n",
      "  '3' :   6,\n",
      "  '4' :   7,\n",
      "  '5' :   8,\n",
      "  '6' :   9,\n",
      "  '7' :  10,\n",
      "  '8' :  11,\n",
      "  '9' :  12,\n",
      "  ':' :  13,\n",
      "  'S' :  14,\n",
      "  'V' :  15,\n",
      "  '—' :  16,\n",
      "  '‘' :  17,\n",
      "  '’' :  18,\n",
      "  '“' :  19,\n",
      "  ...\n",
      "}\n"
     ]
    }
   ],
   "source": [
    "print('{')\n",
    "for char,_ in zip(char2idx, range(20)):\n",
    "    print('  {:4s}: {:3d},'.format(repr(char), char2idx[char]))\n",
    "print('  ...\\n}')"
   ]
  },
  {
   "cell_type": "code",
   "execution_count": 10,
   "id": "30bc72c9-1d55-4e5b-88a9-6ab342edfcf1",
   "metadata": {
    "execution": {
     "iopub.execute_input": "2023-11-04T06:49:44.291858Z",
     "iopub.status.busy": "2023-11-04T06:49:44.291642Z",
     "iopub.status.idle": "2023-11-04T06:49:44.294620Z",
     "shell.execute_reply": "2023-11-04T06:49:44.294184Z",
     "shell.execute_reply.started": "2023-11-04T06:49:44.291843Z"
    },
    "tags": []
   },
   "outputs": [
    {
     "name": "stdout",
     "output_type": "stream",
     "text": [
      "'书名：《生死丹尊》作者：偏' ---- characters mapped to int ---- > [  84  531 3925   25 2319 1880   60 1001   26  181 2797 3925  246]\n"
     ]
    }
   ],
   "source": [
    "# 显示文本首 13 个字符的整数映射\n",
    "print ('{} ---- characters mapped to int ---- > {}'.format(repr(text[:13]), text_as_int[:13]))"
   ]
  },
  {
   "cell_type": "code",
   "execution_count": 11,
   "id": "4922e604-2619-4552-8724-2c2fde73de64",
   "metadata": {
    "execution": {
     "iopub.execute_input": "2023-11-04T06:49:44.850188Z",
     "iopub.status.busy": "2023-11-04T06:49:44.849906Z",
     "iopub.status.idle": "2023-11-04T06:49:46.529976Z",
     "shell.execute_reply": "2023-11-04T06:49:46.529446Z",
     "shell.execute_reply.started": "2023-11-04T06:49:44.850170Z"
    },
    "tags": []
   },
   "outputs": [
    {
     "name": "stderr",
     "output_type": "stream",
     "text": [
      "2023-11-04 14:49:44.984056: I tensorflow/core/util/port.cc:110] oneDNN custom operations are on. You may see slightly different numerical results due to floating-point round-off errors from different computation orders. To turn them off, set the environment variable `TF_ENABLE_ONEDNN_OPTS=0`.\n",
      "2023-11-04 14:49:44.985613: I tensorflow/tsl/cuda/cudart_stub.cc:28] Could not find cuda drivers on your machine, GPU will not be used.\n",
      "2023-11-04 14:49:45.016192: I tensorflow/tsl/cuda/cudart_stub.cc:28] Could not find cuda drivers on your machine, GPU will not be used.\n",
      "2023-11-04 14:49:45.016682: I tensorflow/core/platform/cpu_feature_guard.cc:182] This TensorFlow binary is optimized to use available CPU instructions in performance-critical operations.\n",
      "To enable the following instructions: AVX2 AVX512F AVX512_VNNI FMA, in other operations, rebuild TensorFlow with the appropriate compiler flags.\n",
      "2023-11-04 14:49:45.544121: W tensorflow/compiler/tf2tensorrt/utils/py_utils.cc:38] TF-TRT Warning: Could not find TensorRT\n"
     ]
    }
   ],
   "source": [
    "import tensorflow as tf"
   ]
  },
  {
   "cell_type": "code",
   "execution_count": 12,
   "id": "1242e283-dbcd-4e06-9aa6-0fd795daf322",
   "metadata": {
    "execution": {
     "iopub.execute_input": "2023-11-04T06:49:46.531228Z",
     "iopub.status.busy": "2023-11-04T06:49:46.530860Z",
     "iopub.status.idle": "2023-11-04T06:49:46.655643Z",
     "shell.execute_reply": "2023-11-04T06:49:46.655107Z",
     "shell.execute_reply.started": "2023-11-04T06:49:46.531210Z"
    },
    "tags": []
   },
   "outputs": [
    {
     "name": "stdout",
     "output_type": "stream",
     "text": [
      "书\n",
      "名\n",
      "：\n",
      "《\n",
      "生\n"
     ]
    }
   ],
   "source": [
    "# 设定每个输入句子长度的最大值\n",
    "seq_length = 100\n",
    "examples_per_epoch = len(text)//seq_length\n",
    "\n",
    "# 创建训练样本 / 目标\n",
    "char_dataset = tf.data.Dataset.from_tensor_slices(text_as_int)\n",
    "\n",
    "for i in char_dataset.take(5):\n",
    "  print(idx2char[i.numpy()])"
   ]
  },
  {
   "cell_type": "code",
   "execution_count": 13,
   "id": "a1d5a7f4-5f71-4bd4-86d7-81210b99cc52",
   "metadata": {
    "execution": {
     "iopub.execute_input": "2023-11-04T06:49:46.656520Z",
     "iopub.status.busy": "2023-11-04T06:49:46.656295Z",
     "iopub.status.idle": "2023-11-04T06:49:46.679274Z",
     "shell.execute_reply": "2023-11-04T06:49:46.678793Z",
     "shell.execute_reply.started": "2023-11-04T06:49:46.656504Z"
    },
    "tags": []
   },
   "outputs": [
    {
     "name": "stdout",
     "output_type": "stream",
     "text": [
      "'书名：《生死丹尊》作者：偏旁部首字数：690万简介：\\u3000\\u3000唐明阳，一个逐出家族的纨绔废物，却意外觉醒前世生死丹尊的记忆，从此他的人生开始张狂肆意。\\u3000\\u3000世家天才，辱他欺他？踩踩踩！\\u3000\\u3000妖女圣女，芳华绝代？收'\n",
      "'收收！\\u3000\\u3000老祖老怪，看他不顺？杀杀杀！\\u3000\\u3000在这个强者为尊，弱者为蝼蚁，看你不顺眼，即可来杀你的残酷世界，且看唐明阳如何逆势而起，纵横九天！第1章 轮回转世\\u3000\\u3000“没想到轮回丹，真的让我投胎转世了。”\\u3000\\u3000唐'\n",
      "'明阳在课堂上睡了一觉，突然觉醒前世记忆，脑袋有些发涨。\\u3000\\u3000他前世乃是乾坤大世界的生死丹尊，玄元六境巅峰强者，因九大神迹之一的黄泉冥域开启，他机缘巧合在冥帝遗府的丹炉里得到一颗传说中的轮回丹，被那些老不死'\n",
      "'发现追杀，被迫无奈吞服轮回丹，兵解转世。\\u3000\\u3000没想到，真的让他成功投胎转世了。\\u3000\\u3000记忆刚刚觉醒，他对于这具只有后天一重壮体境的虚弱身体很不适应，好在周围没有危险。他一边慢慢适应身体，一边梳理两世交融时有些'\n",
      "'杂乱的记忆，同时细细的打量着周围的环境。\\u3000\\u3000这是一间六十平方米左右的半圆形教室，明媚的晨光从四扇拱形落地窗穿梭而来，淡金色的光晕柔柔洒落在三十多位全神贯注听讲的男女学生身上，他们的气息都很微弱。\\u3000\\u3000忽然'\n"
     ]
    }
   ],
   "source": [
    "sequences = char_dataset.batch(seq_length+1, drop_remainder=True)\n",
    "\n",
    "for item in sequences.take(5):\n",
    "  print(repr(''.join(idx2char[item.numpy()])))"
   ]
  },
  {
   "cell_type": "code",
   "execution_count": 14,
   "id": "c0d6a347-db89-4a28-8ef0-b95237f01424",
   "metadata": {
    "execution": {
     "iopub.execute_input": "2023-11-04T06:49:47.131315Z",
     "iopub.status.busy": "2023-11-04T06:49:47.130989Z",
     "iopub.status.idle": "2023-11-04T06:49:47.162730Z",
     "shell.execute_reply": "2023-11-04T06:49:47.162250Z",
     "shell.execute_reply.started": "2023-11-04T06:49:47.131295Z"
    },
    "tags": []
   },
   "outputs": [],
   "source": [
    "def split_input_target(chunk):\n",
    "    input_text = chunk[:-1]\n",
    "    target_text = chunk[1:]\n",
    "    return input_text, target_text\n",
    "\n",
    "dataset = sequences.map(split_input_target)"
   ]
  },
  {
   "cell_type": "code",
   "execution_count": 15,
   "id": "9ec03aef-0414-4916-acca-025d3ace7c07",
   "metadata": {
    "execution": {
     "iopub.execute_input": "2023-11-04T06:49:47.663080Z",
     "iopub.status.busy": "2023-11-04T06:49:47.662763Z",
     "iopub.status.idle": "2023-11-04T06:49:47.690625Z",
     "shell.execute_reply": "2023-11-04T06:49:47.690120Z",
     "shell.execute_reply.started": "2023-11-04T06:49:47.663061Z"
    },
    "tags": []
   },
   "outputs": [
    {
     "name": "stdout",
     "output_type": "stream",
     "text": [
      "Input data:  '书名：《生死丹尊》作者：偏旁部首字数：690万简介：\\u3000\\u3000唐明阳，一个逐出家族的纨绔废物，却意外觉醒前世生死丹尊的记忆，从此他的人生开始张狂肆意。\\u3000\\u3000世家天才，辱他欺他？踩踩踩！\\u3000\\u3000妖女圣女，芳华绝代？'\n",
      "Target data: '名：《生死丹尊》作者：偏旁部首字数：690万简介：\\u3000\\u3000唐明阳，一个逐出家族的纨绔废物，却意外觉醒前世生死丹尊的记忆，从此他的人生开始张狂肆意。\\u3000\\u3000世家天才，辱他欺他？踩踩踩！\\u3000\\u3000妖女圣女，芳华绝代？收'\n"
     ]
    }
   ],
   "source": [
    "for input_example, target_example in  dataset.take(1):\n",
    "  print ('Input data: ', repr(''.join(idx2char[input_example.numpy()])))\n",
    "  print ('Target data:', repr(''.join(idx2char[target_example.numpy()])))"
   ]
  },
  {
   "cell_type": "code",
   "execution_count": 16,
   "id": "d574357c-dbb2-407d-94b4-71c0163febac",
   "metadata": {
    "execution": {
     "iopub.execute_input": "2023-11-04T06:49:48.349259Z",
     "iopub.status.busy": "2023-11-04T06:49:48.348921Z",
     "iopub.status.idle": "2023-11-04T06:49:48.363115Z",
     "shell.execute_reply": "2023-11-04T06:49:48.362644Z",
     "shell.execute_reply.started": "2023-11-04T06:49:48.349239Z"
    },
    "tags": []
   },
   "outputs": [
    {
     "name": "stdout",
     "output_type": "stream",
     "text": [
      "Step    0\n",
      "  input: 84 ('书')\n",
      "  expected output: 531 ('名')\n",
      "Step    1\n",
      "  input: 531 ('名')\n",
      "  expected output: 3925 ('：')\n",
      "Step    2\n",
      "  input: 3925 ('：')\n",
      "  expected output: 25 ('《')\n",
      "Step    3\n",
      "  input: 25 ('《')\n",
      "  expected output: 2319 ('生')\n",
      "Step    4\n",
      "  input: 2319 ('生')\n",
      "  expected output: 1880 ('死')\n"
     ]
    }
   ],
   "source": [
    "for i, (input_idx, target_idx) in enumerate(zip(input_example[:5], target_example[:5])):\n",
    "    print(\"Step {:4d}\".format(i))\n",
    "    print(\"  input: {} ({:s})\".format(input_idx, repr(idx2char[input_idx])))\n",
    "    print(\"  expected output: {} ({:s})\".format(target_idx, repr(idx2char[target_idx])))"
   ]
  },
  {
   "cell_type": "code",
   "execution_count": 17,
   "id": "632350b6-0664-4ce8-a844-3ff7bb2f740f",
   "metadata": {
    "execution": {
     "iopub.execute_input": "2023-11-04T06:49:48.789462Z",
     "iopub.status.busy": "2023-11-04T06:49:48.789151Z",
     "iopub.status.idle": "2023-11-04T06:49:48.796285Z",
     "shell.execute_reply": "2023-11-04T06:49:48.795843Z",
     "shell.execute_reply.started": "2023-11-04T06:49:48.789444Z"
    },
    "tags": []
   },
   "outputs": [
    {
     "data": {
      "text/plain": [
       "<_BatchDataset element_spec=(TensorSpec(shape=(64, 100), dtype=tf.int64, name=None), TensorSpec(shape=(64, 100), dtype=tf.int64, name=None))>"
      ]
     },
     "execution_count": 17,
     "metadata": {},
     "output_type": "execute_result"
    }
   ],
   "source": [
    "# 批大小\n",
    "BATCH_SIZE = 64\n",
    "\n",
    "# 设定缓冲区大小，以重新排列数据集\n",
    "# （TF 数据被设计为可以处理可能是无限的序列，\n",
    "# 所以它不会试图在内存中重新排列整个序列。相反，\n",
    "# 它维持一个缓冲区，在缓冲区重新排列元素。） \n",
    "BUFFER_SIZE = 10000\n",
    "\n",
    "dataset = dataset.shuffle(BUFFER_SIZE).batch(BATCH_SIZE, drop_remainder=True)\n",
    "\n",
    "dataset"
   ]
  },
  {
   "cell_type": "code",
   "execution_count": 18,
   "id": "01737e18-c3f6-4c43-8976-8a583e00f817",
   "metadata": {
    "ExecutionIndicator": {
     "show": false
    },
    "execution": {
     "iopub.execute_input": "2023-11-04T06:49:49.217788Z",
     "iopub.status.busy": "2023-11-04T06:49:49.217482Z",
     "iopub.status.idle": "2023-11-04T06:49:49.220450Z",
     "shell.execute_reply": "2023-11-04T06:49:49.219989Z",
     "shell.execute_reply.started": "2023-11-04T06:49:49.217769Z"
    },
    "tags": []
   },
   "outputs": [],
   "source": [
    "# 词集的长度\n",
    "vocab_size = len(vocab)\n",
    "\n",
    "# 嵌入的维度\n",
    "embedding_dim = 256\n",
    "\n",
    "# RNN 的单元数量\n",
    "rnn_units = 1024\n",
    "lstm_units = 256"
   ]
  },
  {
   "cell_type": "code",
   "execution_count": 21,
   "id": "90afbe32-3a7d-4cc6-bd6e-eff2a846cfe9",
   "metadata": {
    "ExecutionIndicator": {
     "show": true
    },
    "execution": {
     "iopub.execute_input": "2023-11-04T06:50:05.393479Z",
     "iopub.status.busy": "2023-11-04T06:50:05.393138Z",
     "iopub.status.idle": "2023-11-04T06:50:05.396919Z",
     "shell.execute_reply": "2023-11-04T06:50:05.396433Z",
     "shell.execute_reply.started": "2023-11-04T06:50:05.393445Z"
    },
    "tags": []
   },
   "outputs": [],
   "source": [
    "def build_model(vocab_size, embedding_dim, rnn_units, batch_size):\n",
    "  model = tf.keras.Sequential([\n",
    "    tf.keras.layers.Embedding(vocab_size, embedding_dim,\n",
    "                              batch_input_shape=[batch_size, None]),\n",
    "    # tf.keras.layers.LSTM(),\n",
    "    tf.keras.layers.GRU(rnn_units,\n",
    "                        return_sequences=True,\n",
    "                        stateful=True,\n",
    "                        recurrent_initializer='glorot_uniform'),\n",
    "    tf.keras.layers.Dense(vocab_size)\n",
    "  ])\n",
    "  return model"
   ]
  },
  {
   "cell_type": "code",
   "execution_count": 22,
   "id": "826e94e4-ef64-44d8-9fbe-b1f714e5b0d1",
   "metadata": {
    "execution": {
     "iopub.execute_input": "2023-11-04T06:50:06.614313Z",
     "iopub.status.busy": "2023-11-04T06:50:06.613978Z",
     "iopub.status.idle": "2023-11-04T06:50:06.813462Z",
     "shell.execute_reply": "2023-11-04T06:50:06.812914Z",
     "shell.execute_reply.started": "2023-11-04T06:50:06.614294Z"
    },
    "tags": []
   },
   "outputs": [],
   "source": [
    "model = build_model(\n",
    "  vocab_size = len(vocab),\n",
    "  embedding_dim=embedding_dim,\n",
    "  rnn_units=rnn_units,\n",
    "  batch_size=BATCH_SIZE)"
   ]
  },
  {
   "cell_type": "code",
   "execution_count": 23,
   "id": "255997ea-5a27-47b6-a2aa-3a7f278e08a1",
   "metadata": {
    "execution": {
     "iopub.execute_input": "2023-11-04T06:50:08.159097Z",
     "iopub.status.busy": "2023-11-04T06:50:08.158774Z",
     "iopub.status.idle": "2023-11-04T06:50:09.487927Z",
     "shell.execute_reply": "2023-11-04T06:50:09.487376Z",
     "shell.execute_reply.started": "2023-11-04T06:50:08.159078Z"
    },
    "tags": []
   },
   "outputs": [
    {
     "name": "stdout",
     "output_type": "stream",
     "text": [
      "(64, 100, 3928) # (batch_size, sequence_length, vocab_size)\n"
     ]
    }
   ],
   "source": [
    "for input_example_batch, target_example_batch in dataset.take(1):\n",
    "  example_batch_predictions = model(input_example_batch)\n",
    "  print(example_batch_predictions.shape, \"# (batch_size, sequence_length, vocab_size)\")"
   ]
  },
  {
   "cell_type": "code",
   "execution_count": 24,
   "id": "1f7317fd-8b53-4ecb-95a9-2f1e47e68999",
   "metadata": {
    "execution": {
     "iopub.execute_input": "2023-11-04T06:50:10.647733Z",
     "iopub.status.busy": "2023-11-04T06:50:10.647390Z",
     "iopub.status.idle": "2023-11-04T06:50:10.655671Z",
     "shell.execute_reply": "2023-11-04T06:50:10.655120Z",
     "shell.execute_reply.started": "2023-11-04T06:50:10.647713Z"
    },
    "tags": []
   },
   "outputs": [
    {
     "name": "stdout",
     "output_type": "stream",
     "text": [
      "Model: \"sequential\"\n",
      "_________________________________________________________________\n",
      " Layer (type)                Output Shape              Param #   \n",
      "=================================================================\n",
      " embedding_1 (Embedding)     (64, None, 256)           1005568   \n",
      "                                                                 \n",
      " gru (GRU)                   (64, None, 1024)          3938304   \n",
      "                                                                 \n",
      " dense (Dense)               (64, None, 3928)          4026200   \n",
      "                                                                 \n",
      "=================================================================\n",
      "Total params: 8970072 (34.22 MB)\n",
      "Trainable params: 8970072 (34.22 MB)\n",
      "Non-trainable params: 0 (0.00 Byte)\n",
      "_________________________________________________________________\n"
     ]
    }
   ],
   "source": [
    "model.summary()"
   ]
  },
  {
   "cell_type": "code",
   "execution_count": 25,
   "id": "71e211bf-a711-45ff-a84e-15151e63ac53",
   "metadata": {
    "execution": {
     "iopub.execute_input": "2023-11-04T06:50:12.503305Z",
     "iopub.status.busy": "2023-11-04T06:50:12.502969Z",
     "iopub.status.idle": "2023-11-04T06:50:12.513618Z",
     "shell.execute_reply": "2023-11-04T06:50:12.513115Z",
     "shell.execute_reply.started": "2023-11-04T06:50:12.503285Z"
    },
    "tags": []
   },
   "outputs": [],
   "source": [
    "sampled_indices = tf.random.categorical(example_batch_predictions[0], num_samples=1)\n",
    "sampled_indices = tf.squeeze(sampled_indices,axis=-1).numpy()"
   ]
  },
  {
   "cell_type": "code",
   "execution_count": 26,
   "id": "c2bed34c-6094-4424-afe0-65ff369084f9",
   "metadata": {
    "execution": {
     "iopub.execute_input": "2023-11-04T06:50:13.975640Z",
     "iopub.status.busy": "2023-11-04T06:50:13.975294Z",
     "iopub.status.idle": "2023-11-04T06:50:13.979624Z",
     "shell.execute_reply": "2023-11-04T06:50:13.979041Z",
     "shell.execute_reply.started": "2023-11-04T06:50:13.975620Z"
    },
    "tags": []
   },
   "outputs": [
    {
     "data": {
      "text/plain": [
       "array([ 990, 1065, 2451, 3603,  553,  483, 3810, 3062, 1967,  685, 1851,\n",
       "        346, 1036,  615,  661,  853, 1664, 1085, 2847,  229,  770, 2787,\n",
       "       2352, 3652, 1181, 1133,  685, 1357, 2041, 2028, 1675, 3565, 1714,\n",
       "         59, 3119,  542, 1641, 3468,  265, 3079, 1423, 2145, 2717, 1951,\n",
       "       1439, 1315, 3483,  884, 2743,  312, 1820,  591, 1565, 1483, 2092,\n",
       "       3449,  987, 1516,  172, 3857, 1876, 2112, 2352,  367, 3320,   36,\n",
       "       2982, 2455, 3014, 2646, 3122, 2548,   19,  675, 3626,   30, 2837,\n",
       "       1584, 3668, 2422, 1581, 2995, 3869, 1241, 2096,   50, 3488, 2714,\n",
       "       1021, 1084, 2657, 2880,  882,  579, 3328, 1792,   21, 1041,  729,\n",
       "        133])"
      ]
     },
     "execution_count": 26,
     "metadata": {},
     "output_type": "execute_result"
    }
   ],
   "source": [
    "sampled_indices"
   ]
  },
  {
   "cell_type": "code",
   "execution_count": 27,
   "id": "20267bed-3055-42bc-8745-6f628ee253d9",
   "metadata": {
    "execution": {
     "iopub.execute_input": "2023-11-04T06:50:15.405176Z",
     "iopub.status.busy": "2023-11-04T06:50:15.404831Z",
     "iopub.status.idle": "2023-11-04T06:50:15.409559Z",
     "shell.execute_reply": "2023-11-04T06:50:15.408964Z",
     "shell.execute_reply.started": "2023-11-04T06:50:15.405156Z"
    },
    "tags": []
   },
   "outputs": [
    {
     "name": "stdout",
     "output_type": "stream",
     "text": [
      "Input: \n",
      " '锻炼的功法，所谓的偏向于神魂锻炼，就是因为这门功法修炼起来，魂之力增长得比较多。\\u3000\\u3000而魂之力越浑厚，人的神魂就越强大。\\u3000\\u3000然而唐明阳还听某个超越玄元六境的老不死说过，玄元武修要超越玄元六境，最终要渡玄'\n",
      "\n",
      "Next Char Predictions: \n",
      " '寥崛瞌锅吱厮驭虽泣嗽樱凹履响喊奢昧巷背倔垅翠疵阚彰庚嗽或淤涮晕鎏期丸螳吟旦迸僵蛇抽炬绚油拖愚逗姓缕农棘咐撂捂滚迈寞接位鲤武潘疵利贾与药瞠葩类蟑租“嗖镯万肯擎陈眉擂菩鸠怦滥严速绕屁巴粱腔姐呵赎桃…岁园付'\n"
     ]
    }
   ],
   "source": [
    "print(\"Input: \\n\", repr(\"\".join(idx2char[input_example_batch[0]])))\n",
    "print()\n",
    "print(\"Next Char Predictions: \\n\", repr(\"\".join(idx2char[sampled_indices ])))"
   ]
  },
  {
   "cell_type": "code",
   "execution_count": 28,
   "id": "36f2a135-d397-4767-b29f-506c1e3656b6",
   "metadata": {
    "execution": {
     "iopub.execute_input": "2023-11-04T06:50:16.930788Z",
     "iopub.status.busy": "2023-11-04T06:50:16.930449Z",
     "iopub.status.idle": "2023-11-04T06:50:16.954719Z",
     "shell.execute_reply": "2023-11-04T06:50:16.954184Z",
     "shell.execute_reply.started": "2023-11-04T06:50:16.930769Z"
    },
    "tags": []
   },
   "outputs": [
    {
     "name": "stdout",
     "output_type": "stream",
     "text": [
      "Prediction shape:  (64, 100, 3928)  # (batch_size, sequence_length, vocab_size)\n",
      "scalar_loss:       8.275708\n"
     ]
    }
   ],
   "source": [
    "def loss(labels, logits):\n",
    "  return tf.keras.losses.sparse_categorical_crossentropy(labels, logits, from_logits=True)\n",
    "\n",
    "example_batch_loss  = loss(target_example_batch, example_batch_predictions)\n",
    "print(\"Prediction shape: \", example_batch_predictions.shape, \" # (batch_size, sequence_length, vocab_size)\")\n",
    "print(\"scalar_loss:      \", example_batch_loss.numpy().mean())"
   ]
  },
  {
   "cell_type": "code",
   "execution_count": 29,
   "id": "84da1fad-fe12-4265-9206-2f1917ca456b",
   "metadata": {
    "execution": {
     "iopub.execute_input": "2023-11-04T06:50:18.193595Z",
     "iopub.status.busy": "2023-11-04T06:50:18.193257Z",
     "iopub.status.idle": "2023-11-04T06:50:18.203901Z",
     "shell.execute_reply": "2023-11-04T06:50:18.203425Z",
     "shell.execute_reply.started": "2023-11-04T06:50:18.193575Z"
    },
    "tags": []
   },
   "outputs": [],
   "source": [
    "model.compile(optimizer='adam', loss=loss)"
   ]
  },
  {
   "cell_type": "code",
   "execution_count": 32,
   "id": "89ec6fc6-78c2-42f3-8649-23fb128189e8",
   "metadata": {
    "execution": {
     "iopub.execute_input": "2023-11-04T06:50:36.562578Z",
     "iopub.status.busy": "2023-11-04T06:50:36.562239Z",
     "iopub.status.idle": "2023-11-04T06:50:36.565553Z",
     "shell.execute_reply": "2023-11-04T06:50:36.565076Z",
     "shell.execute_reply.started": "2023-11-04T06:50:36.562557Z"
    },
    "tags": []
   },
   "outputs": [],
   "source": [
    "# 检查点保存至的目录\n",
    "checkpoint_dir = './training_checkpoints'\n",
    "\n",
    "# 检查点的文件名\n",
    "checkpoint_prefix = os.path.join(checkpoint_dir, \"ckpt_{epoch}\")\n",
    "\n",
    "checkpoint_callback=tf.keras.callbacks.ModelCheckpoint(\n",
    "    filepath=checkpoint_prefix,\n",
    "    save_weights_only=True)"
   ]
  },
  {
   "cell_type": "code",
   "execution_count": 33,
   "id": "d6a11b84-9ee5-4c85-a553-318f4d247203",
   "metadata": {
    "execution": {
     "iopub.execute_input": "2023-11-04T06:50:37.743994Z",
     "iopub.status.busy": "2023-11-04T06:50:37.743687Z",
     "iopub.status.idle": "2023-11-04T06:50:37.746536Z",
     "shell.execute_reply": "2023-11-04T06:50:37.746009Z",
     "shell.execute_reply.started": "2023-11-04T06:50:37.743976Z"
    },
    "tags": []
   },
   "outputs": [],
   "source": [
    "EPOCHS=10"
   ]
  },
  {
   "cell_type": "code",
   "execution_count": null,
   "id": "306b1043-5244-4755-8f8f-b03fc33daf4a",
   "metadata": {
    "execution": {
     "iopub.execute_input": "2023-11-04T06:50:38.672047Z",
     "iopub.status.busy": "2023-11-04T06:50:38.671724Z"
    },
    "tags": []
   },
   "outputs": [
    {
     "name": "stdout",
     "output_type": "stream",
     "text": [
      "Epoch 1/10\n",
      "  44/1158 [>.............................] - ETA: 21:14 - loss: 6.2364"
     ]
    }
   ],
   "source": [
    "history = model.fit(dataset, epochs=EPOCHS, callbacks=[checkpoint_callback])"
   ]
  },
  {
   "cell_type": "code",
   "execution_count": null,
   "id": "2a6b23d5-8c6d-4e9b-aaca-34ad37975891",
   "metadata": {},
   "outputs": [],
   "source": []
  }
 ],
 "metadata": {
  "kernelspec": {
   "display_name": "Python 3 (ipykernel)",
   "language": "python",
   "name": "python3"
  },
  "language_info": {
   "codemirror_mode": {
    "name": "ipython",
    "version": 3
   },
   "file_extension": ".py",
   "mimetype": "text/x-python",
   "name": "python",
   "nbconvert_exporter": "python",
   "pygments_lexer": "ipython3",
   "version": "3.8.16"
  }
 },
 "nbformat": 4,
 "nbformat_minor": 5
}
